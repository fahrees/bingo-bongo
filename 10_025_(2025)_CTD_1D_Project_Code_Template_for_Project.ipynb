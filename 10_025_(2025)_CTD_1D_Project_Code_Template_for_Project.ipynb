{
  "nbformat": 4,
  "nbformat_minor": 0,
  "metadata": {
    "colab": {
      "provenance": []
    },
    "kernelspec": {
      "name": "python3",
      "display_name": "Python 3"
    },
    "language_info": {
      "name": "python"
    }
  },
  "cells": [
    {
      "cell_type": "markdown",
      "source": [
        "**Introduction**\n",
        "\n",
        "We are providing this google colab template for two reasons.\n",
        "\n",
        "1. **This Google Colab notebook is an online computing environment for you to work with various python libraries.** This prevents you from having to handle technical issues that you may encounter if you were working with these libraries on your local computer.\n",
        "\n",
        "2. This notebook also guides you on the commands and steps necessary to work with these libraries."
      ],
      "metadata": {
        "id": "9TGhTFngtZDp"
      }
    },
    {
      "cell_type": "markdown",
      "source": [
        "### Step 0. Before you begin.\n",
        "\n",
        "* We will use **ngrok**, a service that enables you to test your webapp on the internet. We will need to install the ```pyngrok``` library for this.\n",
        "\n",
        "* We will use ```streamlit``` library that enables you to write python code to make the user interface for a webapp.\n",
        "\n",
        "\n",
        "a. Sign up for an ngrok free account. https://dashboard.ngrok.com/\n",
        "\n",
        "\n",
        "b. With your free **ngrok** account, login to the dashboard. Look for the section that says \"Your Authtoken\" from ngrok. Copy that string. https://dashboard.ngrok.com/get-started/your-authtoken\n"
      ],
      "metadata": {
        "id": "4Jl8IMTt9vR-"
      }
    },
    {
      "cell_type": "markdown",
      "source": [
        "### Commands in this notebook.\n",
        "\n",
        "You will notice that there are three kinds of commands in this notebook.\n",
        "\n",
        "1. **Python statement** You will recognize them instantly e.g. ```from ngrok import ngrok```\n",
        "\n",
        "2. **Terminal Commands** Such commands are prefixed with ```!``` e.g ```!ls -ltrc```. Behind each google colab notebook is a Linux-based operating system. If you have a MacBook, you are using such an operating system. You use these terminal commands to give instructions to the operating system to do something for you. We have given you all the necessary commands.\n",
        "\n",
        "3. **Cell Magic Commands** Such commands are prefixed with ```%%``` e.g. ```%% writefile a.py```. Cell magic commands are a feature of Jupyter notebooks and helps you to manage the tasks in each code cell. We have given you all the necessary commands."
      ],
      "metadata": {
        "id": "7GtiCbo_Wn08"
      }
    },
    {
      "cell_type": "markdown",
      "source": [
        "### Let's Begin"
      ],
      "metadata": {
        "id": "CVvdyLysXqXs"
      }
    },
    {
      "cell_type": "markdown",
      "source": [
        "1. Install the ```pyngrok``` library. Run the cell below.\n",
        "\n",
        "Note: in Jupyter, `!` means run this command in the shell (i.e. Terminal in Mac/Linux, Anaconda Prompt in Windows)."
      ],
      "metadata": {
        "id": "CEIAINlN_oRs"
      }
    },
    {
      "cell_type": "code",
      "source": [
        "!pip install pyngrok"
      ],
      "metadata": {
        "id": "EVHqtC15_wad"
      },
      "execution_count": null,
      "outputs": []
    },
    {
      "cell_type": "markdown",
      "source": [
        "2. Paste Your Authtoken over ```<your authoken here>``` and remove only the ```#```\n",
        "\n",
        "**Example**. ```!ngrok authtoken 40AbCdEEfffgggghhkkkpppqqrrranyattttt```"
      ],
      "metadata": {
        "id": "BTqDRx8gN3XB"
      }
    },
    {
      "cell_type": "code",
      "source": [
        "#!ngrok authtoken <your authtoken here>"
      ],
      "metadata": {
        "id": "JPe8ya14_czU"
      },
      "execution_count": null,
      "outputs": []
    },
    {
      "cell_type": "markdown",
      "source": [
        "3. Run the cell below to ensure that your ngrok library is the most updated.\n",
        "\n",
        "- You only need to run this cell once at the start of each session. After that, comment out the python commands in this cell."
      ],
      "metadata": {
        "id": "SYikhb1uADU2"
      }
    },
    {
      "cell_type": "code",
      "source": [
        "from pyngrok import ngrok\n",
        "#ngrok.update()"
      ],
      "metadata": {
        "id": "Nn1Ivp1OAHfS"
      },
      "execution_count": null,
      "outputs": []
    },
    {
      "cell_type": "markdown",
      "source": [
        "4. Run the following cell to install the  ```streamlit``` library."
      ],
      "metadata": {
        "id": "xMLUqRKU_6M-"
      }
    },
    {
      "cell_type": "code",
      "source": [
        "!pip install streamlit -q"
      ],
      "metadata": {
        "id": "EjF78-kO_5xa"
      },
      "execution_count": null,
      "outputs": []
    },
    {
      "cell_type": "markdown",
      "source": [
        "### Step 1. Build a simple webapp by writing code.  "
      ],
      "metadata": {
        "id": "hMMS9iRAAu_Q"
      }
    },
    {
      "cell_type": "markdown",
      "source": [
        "1. Functions that do calculations for your app should be stored in a file for the code in **mylibrary.py** to call. Here we store one function in a file called **mylibrary.py**.\n",
        "\n",
        "Note: In Jupyter, we use `%%` to run *magic commands* for the cell. For example, we can add `%%timeit` at the start of a cell to check how long our code takes to run. In the cell below, `%%writefile` puts our cell code into the specified file."
      ],
      "metadata": {
        "id": "bYwEK2LOPEtr"
      }
    },
    {
      "cell_type": "code",
      "source": [
        "%%writefile mylibrary.py\n",
        "\n",
        "def calculate_total( oranges, apples):\n",
        "    return 2*oranges + 3*apples\n",
        "\n",
        "def plastic_bags_price(bags):\n",
        "    \"\"\"one bag 0.1, two bags 0.4, three bags 0.9 \"\"\"\n",
        "    return 0.1*bags*bags"
      ],
      "metadata": {
        "id": "TDNHz7FeG3U6"
      },
      "execution_count": null,
      "outputs": []
    },
    {
      "cell_type": "markdown",
      "source": [
        "2. Your ```streamlit``` webapp is usually stored in a python file called **app.py**. The first line in this cell ```%%writefile app.py``` creates this python file which contains all the code in this file.\n",
        "\n",
        "- Study the statements below and see how each python statement creates a different widget. Also, observe the role of ```st.session_state``` and how it is linked to the ```key``` attribute of each widget."
      ],
      "metadata": {
        "id": "FpZTRtznA5Yu"
      }
    },
    {
      "cell_type": "code",
      "source": [
        "%%writefile app.py\n",
        "\n",
        "import streamlit as st\n",
        "import mylibrary\n",
        "\n",
        "st.write(\"Hello!\")\n",
        "st.text_input(\"Enter the quantity of African Oranges $2 each\", key=\"oranges\")\n",
        "st.number_input(\"Enter the quantity of Fuji Apples $3 each\", min_value=0, max_value=10, step=1, key=\"apples\")\n",
        "st.slider(\"How many plastic bags do you want\", min_value=0, max_value=3, step=1, key=\"bags\")\n",
        "bags_cost = mylibrary.plastic_bags_price(st.session_state.bags)\n",
        "st.write(\"Your plastic bags will cost $\" + str(bags_cost))\n",
        "\n",
        "if st.button('Get Total'):\n",
        "    st.write('Calculating Your Total ...')\n",
        "    oranges = int(st.session_state.oranges)\n",
        "    apples = int(st.session_state.apples)\n",
        "    result = mylibrary.calculate_total(oranges, apples)\n",
        "    total = bags_cost + result\n",
        "    st.write('Please pay {:.2f}'.format(total))\n",
        "else:\n",
        "    st.write('Please Key In The Quantity')"
      ],
      "metadata": {
        "id": "7nReqBXB_1Gr"
      },
      "execution_count": null,
      "outputs": []
    },
    {
      "cell_type": "markdown",
      "source": [
        "3. The files are stored somewhere on your google account's filesystem. To see the files, run the following terminal commands."
      ],
      "metadata": {
        "id": "S2YA7-GLR_vS"
      }
    },
    {
      "cell_type": "markdown",
      "source": [
        "```pwd``` - **p**rint **w**orking **d**irectory"
      ],
      "metadata": {
        "id": "-3PJ5rtbSIuJ"
      }
    },
    {
      "cell_type": "code",
      "source": [
        "!pwd"
      ],
      "metadata": {
        "id": "IV3AO4HzSIXP"
      },
      "execution_count": null,
      "outputs": []
    },
    {
      "cell_type": "markdown",
      "source": [
        "```ls``` - **l**ist content**s** . The ```-ltrc``` flag specifies how the contents of the folder are displayed."
      ],
      "metadata": {
        "id": "5-nkvQRRSezC"
      }
    },
    {
      "cell_type": "code",
      "source": [
        "!ls -ltrc"
      ],
      "metadata": {
        "id": "kIocOZ7MSDov"
      },
      "execution_count": null,
      "outputs": []
    },
    {
      "cell_type": "markdown",
      "source": [
        "Write python code to open the file **mylibrary.py** and display its contents. You learn how to do this in **Lesson 6**."
      ],
      "metadata": {
        "id": "wOdKFjW2SmRU"
      }
    },
    {
      "cell_type": "code",
      "source": [
        "with open('mylibrary.py') as f:\n",
        "  print(f.read())"
      ],
      "metadata": {
        "id": "9hUGme2JR3Kd"
      },
      "execution_count": null,
      "outputs": []
    },
    {
      "cell_type": "markdown",
      "source": [
        "Write similar code to display the contents of **app.py**."
      ],
      "metadata": {
        "id": "XJLsZovmStv7"
      }
    },
    {
      "cell_type": "code",
      "source": [],
      "metadata": {
        "id": "Fk4RDKo_StBU"
      },
      "execution_count": null,
      "outputs": []
    },
    {
      "cell_type": "markdown",
      "source": [
        "3. Now we have start a streamlit server to *serve* our webpage to users.\n",
        "\n",
        "- In the below command:\n",
        "  - `streamlit run app.py` tells streamlit to start a server.\n",
        "  - `--server.port 5011` starts it on port 5011 (the `--` is for options).\n",
        "  - `nohup` (no hang up) makes sure that the server doesn't die when we close the Colab connection\n",
        "  - `&` sends the command to the background so the notebook doesn't wait for the server to finish (since the server is supposed to keep running)"
      ],
      "metadata": {
        "id": "ine9w28zPgo4"
      }
    },
    {
      "cell_type": "code",
      "source": [
        "!nohup streamlit run app.py --server.port 5011 &"
      ],
      "metadata": {
        "id": "WNvmY0hBPoEI"
      },
      "execution_count": null,
      "outputs": []
    },
    {
      "cell_type": "markdown",
      "source": [
        "4. Next, we run some ngrok functions so that this server can be accessed on the internet. You should see a URL that you can click on. Click it - that's your webapp and interact with it to see that it works as it should."
      ],
      "metadata": {
        "id": "6rsAV1N4BR_I"
      }
    },
    {
      "cell_type": "code",
      "source": [
        "from pyngrok import ngrok\n",
        "\n",
        "# Start ngrok tunnel to expose the Streamlit server\n",
        "ngrok_tunnel = ngrok.connect(addr='5011', proto='http', bind_tls=True)\n",
        "\n",
        "# Print the URL of the ngrok tunnel\n",
        "print(' * Tunnel URL:', ngrok_tunnel.public_url)"
      ],
      "metadata": {
        "id": "mmhE69ucBhES"
      },
      "execution_count": null,
      "outputs": []
    },
    {
      "cell_type": "markdown",
      "source": [
        "5. Make a change to any string in ```app.py``` and run the cell e.g. change ```African``` to any other word. On your webapp, you should see a prompt for you to reload. Follow it and see that the change is made.\n",
        "\n",
        "6. Note that the free service for ```ngrok``` means that your URL in step 4 is not permanent. Once it is no longer accessible, go to the top of your notebook and select **Restart Session and Run All**.\n",
        "\n",
        "7. You may also encounter errors displaying the URL in Step 4. If this happens, go to https://dashboard.ngrok.com/agents, click on the agent shown (look for the three dots) and select delete."
      ],
      "metadata": {
        "id": "zroa5lUqY66b"
      }
    },
    {
      "cell_type": "markdown",
      "source": [
        "### Step 2. Learn on your own."
      ],
      "metadata": {
        "id": "dX8cVmGNO6lN"
      }
    },
    {
      "cell_type": "markdown",
      "source": [
        "Now that you can build your own webapp, learn about the various widgets available in Streamlit and experiment with them.\n",
        "https://docs.streamlit.io/develop/api-reference/widgets\n"
      ],
      "metadata": {
        "id": "A1IRm5ApO-kv"
      }
    },
    {
      "cell_type": "markdown",
      "source": [
        "### Alternative: You could choose to run this project locally on your laptop.\n",
        "\n",
        "If you just want to run this on your local machine, it's easier and you don't need `ngrok`.\n",
        "\n",
        "1. From your shell (Terminal / Anaconda Prompt), install streamlit using `pip install streamlit`\n",
        "2. Create a project folder for the `.py` files in this project\n",
        "3. Put the template code from Step 1.1 in `mylibrary.py`\n",
        "4. Put the template code from Step 1.2 in `app.py`\n",
        "5. Edit the files as you wish\n",
        "6. To start streamlit, open your shell (Terminal / Anaconda Prompt) and go to your project folder. You can use `cd xxxx` to **c**hange **d**irectory to folder `xxxx`. To go up one directory level, use `cd ..`\n",
        "7. When you are in the project folder, run `streamlit run app.py`\n",
        "8. The server should start (on your computer) and take you to the webpage in your browser."
      ],
      "metadata": {
        "id": "C6mbpJmzX2Ii"
      }
    },
    {
      "cell_type": "markdown",
      "source": [
        "### Resources used\n",
        "\n",
        "The writer of this assignment spoke to Prof Kenny Lu who pointed him to the **ngrok** service and shared some resources used in another SUTD course. The writer then read this [article from medium.com](https://medium.com/@mrcoffeeai/running-streamlit-on-google-colab-with-pyngrok-24895581df43) and used the code given. The writer also looked at the Streamlit documentation, in the [section for beginners](https://docs.streamlit.io/get-started/fundamentals/main-concepts). Faculty and UTAs teaching CTD helped to give feedback."
      ],
      "metadata": {
        "id": "p4cQLJkHR3kM"
      }
    },
    {
      "cell_type": "markdown",
      "source": [
        "\n",
        "\n",
        "---------\n",
        ">\n",
        "> Use this notebook as a template for your project. You may add cells if you have more code to write. Do not delete any cells, every aspect is important.\n",
        ">\n",
        "---------\n",
        "\n",
        "\n"
      ],
      "metadata": {
        "id": "aEwqNJwjIrNt"
      }
    }
  ]
}